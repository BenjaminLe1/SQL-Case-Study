{
 "cells": [
  {
   "cell_type": "code",
   "execution_count": 43,
   "metadata": {},
   "outputs": [],
   "source": [
    "# IMPORTS\n",
    "\n",
    "import sqlite3"
   ]
  },
  {
   "cell_type": "code",
   "execution_count": 44,
   "metadata": {},
   "outputs": [],
   "source": [
    "# CONNECTION\n",
    "\n",
    "database = \"sqlite_db_pythonsqlite.db\"\n",
    "conn = sqlite3.connect(database)\n",
    "cursor = conn.cursor()"
   ]
  },
  {
   "cell_type": "code",
   "execution_count": 45,
   "metadata": {},
   "outputs": [
    {
     "name": "stdout",
     "output_type": "stream",
     "text": [
      "['fac_name', 'revenue']\n",
      "('Badminton Court', 604.5)\n",
      "('Pool Table', 265)\n",
      "('Snooker Table', 115)\n",
      "('Table Tennis', 90)\n"
     ]
    }
   ],
   "source": [
    "# Q10: Produce a list of facilities with a total revenue less than 1000.\n",
    "# The output of facility name and total revenue, sorted by revenue. Remember\n",
    "# that there's a different cost for guests and members!\n",
    "\n",
    "query1 = \"WITH fac_cost AS (SELECT f.name AS fac_name, \\\n",
    "                                CASE WHEN m.memid = 0 THEN f.guestcost\\\n",
    "                                    ELSE f.membercost END AS cost\\\n",
    "                            FROM Bookings AS b\\\n",
    "                            LEFT JOIN Members AS m\\\n",
    "                            USING(memid)\\\n",
    "                            LEFT JOIN Facilities AS f\\\n",
    "                            USING(facid)\\\n",
    "                            ),\\\n",
    "        tot_rev AS (SELECT fac_name, SUM(cost) AS revenue\\\n",
    "                    FROM fac_cost\\\n",
    "                    GROUP BY fac_name\\\n",
    "                    )\\\n",
    "        \\\n",
    "        SELECT *\\\n",
    "        FROM tot_rev\\\n",
    "        WHERE revenue < 1000;\\\n",
    "        \"\n",
    "\n",
    "cursor.execute(query1)\n",
    "rows = cursor.fetchall()\n",
    "print([d[0] for d in cursor.description])\n",
    "for row in rows:\n",
    "    print(row)"
   ]
  },
  {
   "cell_type": "code",
   "execution_count": 46,
   "metadata": {},
   "outputs": [
    {
     "name": "stdout",
     "output_type": "stream",
     "text": [
      "['surname', 'firstname', 'rec_surname', 'rec_firstname']\n",
      "('Bader', 'Florence', 'Stibbons', 'Ponder')\n",
      "('Baker', 'Anne', 'Stibbons', 'Ponder')\n",
      "('Baker', 'Timothy', 'Farrell', 'Jemima')\n",
      "('Boothe', 'Tim', 'Rownam', 'Tim')\n",
      "('Butters', 'Gerald', 'Smith', 'Darren')\n",
      "('Coplin', 'Joan', 'Baker', 'Timothy')\n",
      "('Crumpet', 'Erica', 'Smith', 'Tracy')\n",
      "('Dare', 'Nancy', 'Joplette', 'Janice')\n",
      "('Genting', 'Matthew', 'Butters', 'Gerald')\n",
      "('Hunt', 'John', 'Purview', 'Millicent')\n",
      "('Jones', 'David', 'Joplette', 'Janice')\n",
      "('Jones', 'Douglas', 'Jones', 'David')\n",
      "('Joplette', 'Janice', 'Smith', 'Darren')\n",
      "('Mackenzie', 'Anna', 'Smith', 'Darren')\n",
      "('Owen', 'Charles', 'Smith', 'Darren')\n",
      "('Pinker', 'David', 'Farrell', 'Jemima')\n",
      "('Purview', 'Millicent', 'Smith', 'Tracy')\n",
      "('Rumney', 'Henrietta', 'Genting', 'Matthew')\n",
      "('Sarwin', 'Ramnaresh', 'Bader', 'Florence')\n",
      "('Smith', 'Jack', 'Smith', 'Darren')\n",
      "('Stibbons', 'Ponder', 'Tracy', 'Burton')\n",
      "('Worthington-Smyth', 'Henry', 'Smith', 'Tracy')\n"
     ]
    }
   ],
   "source": [
    "# Q11: Produce a report of members and who recommended them in alphabetic surname,firstname order\n",
    "\n",
    "query2 = \"SELECT m1.surname, m1.firstname, m2.surname AS rec_surname, m2.firstname AS rec_firstname\\\n",
    "        FROM Members as m1\\\n",
    "        INNER JOIN (SELECT memid, surname, firstname FROM Members) as m2\\\n",
    "        ON m1.recommendedby = m2.memid\\\n",
    "        ORDER BY m1.surname, m1.firstname ASC;\\\n",
    "        \"\n",
    "\n",
    "cursor.execute(query2)\n",
    "rows = cursor.fetchall()\n",
    "print([d[0] for d in cursor.description])\n",
    "for row in rows:\n",
    "    print(row)"
   ]
  },
  {
   "cell_type": "code",
   "execution_count": 47,
   "metadata": {},
   "outputs": [
    {
     "name": "stdout",
     "output_type": "stream",
     "text": [
      "['name', 'usage_count']\n",
      "('Tennis Court 1', 957)\n",
      "('Tennis Court 2', 882)\n",
      "('Badminton Court', 1086)\n",
      "('Table Tennis', 794)\n",
      "('Massage Room 1', 884)\n",
      "('Massage Room 2', 54)\n",
      "('Squash Court', 418)\n",
      "('Snooker Table', 860)\n",
      "('Pool Table', 856)\n"
     ]
    }
   ],
   "source": [
    "# Q12: Find the facilities with their usage by member, but not guests\n",
    "\n",
    "query3 = \"WITH book_fac AS (SELECT *\\\n",
    "                            FROM Bookings\\\n",
    "                            LEFT JOIN Facilities\\\n",
    "                            USING(facid)\\\n",
    "                            WHERE memid <> 0)\\\n",
    "        SELECT name, SUM(slots) AS usage_count\\\n",
    "        FROM book_fac\\\n",
    "        GROUP BY facid\\\n",
    "        \"\n",
    "\n",
    "cursor.execute(query3)\n",
    "rows = cursor.fetchall()\n",
    "print([d[0] for d in cursor.description])\n",
    "for row in rows:\n",
    "    print(row)"
   ]
  },
  {
   "cell_type": "code",
   "execution_count": 48,
   "metadata": {},
   "outputs": [
    {
     "name": "stdout",
     "output_type": "stream",
     "text": [
      "['month', 'usage_count']\n",
      "('07', 1061)\n",
      "('08', 2531)\n",
      "('09', 3199)\n"
     ]
    }
   ],
   "source": [
    "# Q13: Find the facilities usage by month, but not guests\n",
    "\n",
    "query4 = \"WITH by_month AS (SELECT strftime('%m', starttime) AS month, slots\\\n",
    "                            FROM Bookings\\\n",
    "                            WHERE memid <> 0)\\\n",
    "            SELECT month, SUM(slots) AS usage_count\\\n",
    "            FROM by_month\\\n",
    "            GROUP BY month\\\n",
    "        \"\n",
    "\n",
    "cursor.execute(query4)\n",
    "rows = cursor.fetchall()\n",
    "print([d[0] for d in cursor.description])\n",
    "for row in rows:\n",
    "    print(row)"
   ]
  }
 ],
 "metadata": {
  "kernelspec": {
   "display_name": "base",
   "language": "python",
   "name": "python3"
  },
  "language_info": {
   "codemirror_mode": {
    "name": "ipython",
    "version": 3
   },
   "file_extension": ".py",
   "mimetype": "text/x-python",
   "name": "python",
   "nbconvert_exporter": "python",
   "pygments_lexer": "ipython3",
   "version": "3.13.5"
  },
  "toc": {
   "base_numbering": 1,
   "nav_menu": {},
   "number_sections": true,
   "sideBar": true,
   "skip_h1_title": false,
   "title_cell": "Table of Contents",
   "title_sidebar": "Contents",
   "toc_cell": false,
   "toc_position": {},
   "toc_section_display": true,
   "toc_window_display": true
  },
  "varInspector": {
   "cols": {
    "lenName": 16,
    "lenType": 16,
    "lenVar": 40
   },
   "kernels_config": {
    "python": {
     "delete_cmd_postfix": "",
     "delete_cmd_prefix": "del ",
     "library": "var_list.py",
     "varRefreshCmd": "print(var_dic_list())"
    },
    "r": {
     "delete_cmd_postfix": ") ",
     "delete_cmd_prefix": "rm(",
     "library": "var_list.r",
     "varRefreshCmd": "cat(var_dic_list()) "
    }
   },
   "types_to_exclude": [
    "module",
    "function",
    "builtin_function_or_method",
    "instance",
    "_Feature"
   ],
   "window_display": false
  }
 },
 "nbformat": 4,
 "nbformat_minor": 4
}
